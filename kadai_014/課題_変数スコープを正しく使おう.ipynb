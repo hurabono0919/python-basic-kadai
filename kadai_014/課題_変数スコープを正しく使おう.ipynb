{
  "nbformat": 4,
  "nbformat_minor": 0,
  "metadata": {
    "colab": {
      "provenance": []
    },
    "kernelspec": {
      "name": "python3",
      "display_name": "Python 3"
    },
    "language_info": {
      "name": "python"
    }
  },
  "cells": [
    {
      "cell_type": "code",
      "execution_count": 9,
      "metadata": {
        "colab": {
          "base_uri": "https://localhost:8080/"
        },
        "id": "tF4JlFqLfCbU",
        "outputId": "0f90335e-4b98-4de1-d8c3-722cc17b7107"
      },
      "outputs": [
        {
          "output_type": "stream",
          "name": "stdout",
          "text": [
            "330.0\n"
          ]
        }
      ],
      "source": [
        "price1 = 100\n",
        "price2 = 200\n",
        "\n",
        "def total():\n",
        "  return price1 + price2\n",
        "\n",
        "tax = 1.1\n",
        "print(total() * tax)"
      ]
    }
  ]
}