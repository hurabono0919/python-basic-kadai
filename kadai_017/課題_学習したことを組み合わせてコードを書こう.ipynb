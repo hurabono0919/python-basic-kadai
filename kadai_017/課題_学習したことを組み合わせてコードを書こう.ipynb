{
  "nbformat": 4,
  "nbformat_minor": 0,
  "metadata": {
    "colab": {
      "provenance": []
    },
    "kernelspec": {
      "name": "python3",
      "display_name": "Python 3"
    },
    "language_info": {
      "name": "python"
    }
  },
  "cells": [
    {
      "cell_type": "code",
      "source": [],
      "metadata": {
        "id": "manFpcfB-SCU"
      },
      "execution_count": null,
      "outputs": []
    },
    {
      "cell_type": "code",
      "execution_count": 15,
      "metadata": {
        "colab": {
          "base_uri": "https://localhost:8080/"
        },
        "id": "QPA6CAbo2jO3",
        "outputId": "12e4bb2b-41df-4b6f-ce9b-3d6d5280f39d"
      },
      "outputs": [
        {
          "output_type": "stream",
          "name": "stdout",
          "text": [
            "大きい人は25歳です。\n",
            "大人です。\n",
            "小さい人は10歳です。\n",
            "大人ではありません。\n"
          ]
        }
      ],
      "source": [
        "profiles = {\"大きい人\": 25, \"小さい人\": 10}\n",
        "\n",
        "class Human:\n",
        "  def __init__(self):\n",
        "    self.name = \"\"\n",
        "    self.age = \"\"\n",
        "\n",
        "  def check_adult(self, name, age):\n",
        "    print(f\"{name}は{age}歳です。\")\n",
        "    if (age >= 20):\n",
        "      print(\"大人です。\")\n",
        "    else:\n",
        "      print(\"大人ではありません。\")\n",
        "\n",
        "for key, value in profiles.items():\n",
        "  otona = Human()\n",
        "  otona.check_adult(key, value)\n"
      ]
    }
  ]
}