{
  "nbformat": 4,
  "nbformat_minor": 0,
  "metadata": {
    "colab": {
      "provenance": []
    },
    "kernelspec": {
      "name": "python3",
      "display_name": "Python 3"
    },
    "language_info": {
      "name": "python"
    }
  },
  "cells": [
    {
      "cell_type": "code",
      "execution_count": 11,
      "metadata": {
        "colab": {
          "base_uri": "https://localhost:8080/"
        },
        "id": "vjmLV0pYXcXu",
        "outputId": "30362628-0cc2-463f-9c9c-ac6ecd9fbb35"
      },
      "outputs": [
        {
          "output_type": "execute_result",
          "data": {
            "text/plain": [
              "121.00000000000001"
            ]
          },
          "metadata": {},
          "execution_count": 11
        }
      ],
      "source": [
        "def calculate_total(kingaku: int, tax: int):\n",
        "  total = kingaku * (1 + tax/100)\n",
        "  return total\n",
        "\n",
        "calculate_total(110, 10)"
      ]
    }
  ]
}