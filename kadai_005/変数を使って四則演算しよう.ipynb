{
  "nbformat": 4,
  "nbformat_minor": 0,
  "metadata": {
    "colab": {
      "provenance": []
    },
    "kernelspec": {
      "name": "python3",
      "display_name": "Python 3"
    },
    "language_info": {
      "name": "python"
    }
  },
  "cells": [
    {
      "cell_type": "code",
      "execution_count": 4,
      "metadata": {
        "colab": {
          "base_uri": "https://localhost:8080/"
        },
        "id": "gSAQC9-Rfm0Y",
        "outputId": "57f0bed2-8eea-4d40-da19-5ee873e7cd2e"
      },
      "outputs": [
        {
          "output_type": "stream",
          "name": "stdout",
          "text": [
            "台形の面積は75.0cm²\n"
          ]
        }
      ],
      "source": [
        "upper_line = 10 # 上辺：10cm\n",
        "undar_line = 20 # 下辺：20cm\n",
        "height = 5 # 高さ：5cm\n",
        "\n",
        "#公式：台形の面積 =（上辺＋下辺）× 高さ ÷ 2\n",
        "daikei_menseki = (upper_line + undar_line) * height / 2\n",
        "print(f\"台形の面積は{daikei_menseki}cm²\")"
      ]
    }
  ]
}