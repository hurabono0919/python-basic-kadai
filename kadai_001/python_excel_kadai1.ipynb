{
  "nbformat": 4,
  "nbformat_minor": 0,
  "metadata": {
    "colab": {
      "provenance": []
    },
    "kernelspec": {
      "name": "python3",
      "display_name": "Python 3"
    },
    "language_info": {
      "name": "python"
    }
  },
  "cells": [
    {
      "cell_type": "code",
      "execution_count": 2,
      "metadata": {
        "id": "8U2QWE48QjWA"
      },
      "outputs": [],
      "source": [
        "import openpyxl\n",
        "from datetime import date\n",
        "\n",
        "workbook = openpyxl.Workbook()\n",
        "ws = workbook.active\n",
        "\n",
        "data1 = [\n",
        "    ['請求書'],\n",
        "    [''],\n",
        "    ['株式会社ABC'],\n",
        "    ['〒101-0022 東京都千代田区神田練塀町300'],\n",
        "    ['TEL:03-1234-5678 FAX:03-1234-5678'],\n",
        "    ['担当者名:鈴木一郎 様']\n",
        "]\n",
        "\n",
        "row_num = 2\n",
        "for row in data1:\n",
        "    col = ws[\"B\" + str(row_num)]\n",
        "    col.value = row[0]\n",
        "    row_num = row_num + 1\n",
        "\n",
        "ws[\"F4\"] = \"No.\"\n",
        "ws[\"F5\"] = \"日付\"\n",
        "ws[\"G4\"] = \"0001\"\n",
        "today = date.today()\n",
        "ws[\"G5\"] = today.strftime('%Y/%m/%d')\n",
        "\n",
        "ws[\"B10\"] = '商品名'\n",
        "ws[\"C10\"] = '数量'\n",
        "ws[\"D10\"] = '単価'\n",
        "ws[\"E10\"] = '金額'\n",
        "\n",
        "data2 = [\n",
        "    ['商品Ａ', 2, 10000, 20000],\n",
        "    ['商品Ｂ', 1, 15000, 15000],\n",
        "]\n",
        "\n",
        "total = 0\n",
        "row_num = 11\n",
        "\n",
        "for row in data2:\n",
        "  col1 = ws[\"B\" + str(row_num)]\n",
        "  col1.value = row[0]\n",
        "  col2 = ws[\"C\" + str(row_num)]\n",
        "  col2.value = row[1]\n",
        "  col3 = ws[\"D\" + str(row_num)]\n",
        "  col3.value = row[2]\n",
        "  col4 = ws[\"E\" + str(row_num)]\n",
        "  col4.value = row[3]\n",
        "  total = total + int(row[3])\n",
        "  row_num = row_num + 1\n",
        "\n",
        "ws[\"B15\"] = \"合計\"\n",
        "ws[\"B16\"] = \"消費税\"\n",
        "ws[\"B17\"] = \"税込合計\"\n",
        "\n",
        "tax = total * 0.1\n",
        "soutotal = int(total + tax)\n",
        "\n",
        "ws[\"E15\"] = total\n",
        "ws[\"E16\"] = tax\n",
        "ws[\"E17\"] = soutotal\n",
        "\n",
        "workbook.save('python-excel-kadai1.xlsx')"
      ]
    }
  ]
}